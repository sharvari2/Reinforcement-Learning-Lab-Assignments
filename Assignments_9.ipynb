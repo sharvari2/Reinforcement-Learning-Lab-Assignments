{
 "cells": [
  {
   "cell_type": "code",
   "execution_count": null,
   "id": "f731195c",
   "metadata": {},
   "outputs": [],
   "source": [
    "# Write a program in python to simulates the elevator's movement between floors, and the agent \n",
    "# uses Qlearning to learn the optimal actions for each floor.\n",
    "\n",
    "#  Name: Sharvari Pramod Jape\n",
    "# Class: B.E AIML\n",
    "# Roll No: 43526"
   ]
  },
  {
   "cell_type": "code",
   "execution_count": 2,
   "id": "628d436c",
   "metadata": {},
   "outputs": [
    {
     "name": "stdout",
     "output_type": "stream",
     "text": [
      "Episode: 0\n",
      "Episode: 100\n",
      "Episode: 200\n",
      "Episode: 300\n",
      "Episode: 400\n",
      "Episode: 500\n",
      "Episode: 600\n",
      "Episode: 700\n",
      "Episode: 800\n",
      "Episode: 900\n",
      "Average reward over 10 test episodes: 4.3\n"
     ]
    }
   ],
   "source": [
    "import numpy as np\n",
    "\n",
    "class Elevator:\n",
    "    def __init__(self, num_floors):\n",
    "        self.num_floors = num_floors\n",
    "        self.current_floor = 0\n",
    "        self.actions = [\"UP\", \"DOWN\", \"STAY\"]\n",
    "        self.q_table = np.zeros((num_floors, len(self.actions)))\n",
    "\n",
    "    def get_action(self):\n",
    "        return np.argmax(self.q_table[self.current_floor])\n",
    "\n",
    "    def update_q_table(self, action, reward):\n",
    "        old_q_value = self.q_table[self.current_floor, action]\n",
    "        max_future_q_value = 0\n",
    "        if action == 0 and self.current_floor < self.num_floors - 1:\n",
    "            max_future_q_value = np.max(self.q_table[self.current_floor + 1])\n",
    "        elif action == 1 and self.current_floor > 0:\n",
    "            max_future_q_value = np.max(self.q_table[self.current_floor - 1])\n",
    "        new_q_value = old_q_value + learning_rate * (reward + discount_factor * max_future_q_value - old_q_value)\n",
    "        self.q_table[self.current_floor, action] = new_q_value\n",
    "\n",
    "    def move(self, action):\n",
    "        if action == 0 and self.current_floor < self.num_floors - 1:\n",
    "            self.current_floor += 1\n",
    "        elif action == 1 and self.current_floor > 0:\n",
    "            self.current_floor -= 1\n",
    "\n",
    "# Define parameters\n",
    "num_floors = 10\n",
    "max_episodes = 1000\n",
    "learning_rate = 0.1\n",
    "discount_factor = 0.9\n",
    "reward = 1  \n",
    "\n",
    "elevator = Elevator(num_floors)\n",
    "\n",
    "for episode in range(max_episodes):\n",
    "    elevator.current_floor = np.random.randint(0, num_floors)\n",
    "    done = False\n",
    "\n",
    "    while not done:\n",
    "        action = elevator.get_action()\n",
    "        elevator.move(action)\n",
    "        elevator.update_q_table(action, reward)\n",
    "\n",
    "        if elevator.current_floor == 0 or elevator.current_floor == num_floors - 1:\n",
    "            done = True\n",
    "\n",
    "    if episode % 100 == 0:\n",
    "        print(f\"Episode: {episode}\")\n",
    "\n",
    "test_episodes = 10\n",
    "total_rewards = []\n",
    "\n",
    "for _ in range(test_episodes):\n",
    "    elevator.current_floor = np.random.randint(0, num_floors)\n",
    "    done = False\n",
    "    episode_reward = 0\n",
    "\n",
    "    while not done:\n",
    "        action = elevator.get_action()\n",
    "        elevator.move(action)\n",
    "        episode_reward += reward\n",
    "\n",
    "        if elevator.current_floor == 0 or elevator.current_floor == num_floors - 1:\n",
    "            done = True\n",
    "\n",
    "    total_rewards.append(episode_reward)\n",
    "\n",
    "average_reward = sum(total_rewards) / test_episodes\n",
    "print(f\"Average reward over {test_episodes} test episodes: {average_reward}\")\n"
   ]
  }
 ],
 "metadata": {
  "kernelspec": {
   "display_name": "Python 3 (ipykernel)",
   "language": "python",
   "name": "python3"
  },
  "language_info": {
   "codemirror_mode": {
    "name": "ipython",
    "version": 3
   },
   "file_extension": ".py",
   "mimetype": "text/x-python",
   "name": "python",
   "nbconvert_exporter": "python",
   "pygments_lexer": "ipython3",
   "version": "3.8.10"
  }
 },
 "nbformat": 4,
 "nbformat_minor": 5
}
