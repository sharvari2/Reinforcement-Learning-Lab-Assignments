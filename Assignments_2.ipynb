{
 "cells": [
  {
   "cell_type": "code",
   "execution_count": null,
   "id": "80eb30ac",
   "metadata": {},
   "outputs": [],
   "source": [
    "# Write a program in python to demonstrate Markov Decision Processes and value functions by performing\n",
    "# value iteration to find the optimal value function for a randomly initialized MDP.\n",
    "\n",
    "\n",
    "# Name: Sharvari Pramod Jape\n",
    "# Class: B.E AIML\n",
    "# Roll No: 43526"
   ]
  },
  {
   "cell_type": "code",
   "execution_count": 2,
   "id": "7adce71e",
   "metadata": {},
   "outputs": [
    {
     "name": "stdout",
     "output_type": "stream",
     "text": [
      "MDP Transition Probabilities:\n",
      "Action 1:\n",
      "0.14 0.36 0.28 0.23\n",
      "0.26 0.31 0.01 0.42\n",
      "0.20 0.34 0.28 0.19\n",
      "0.23 0.40 0.10 0.26\n",
      "Action 2:\n",
      "0.13 0.13 0.05 0.70\n",
      "0.59 0.15 0.13 0.13\n",
      "0.43 0.10 0.21 0.26\n",
      "0.42 0.03 0.43 0.12\n",
      "Optimal Value Function:\n",
      "[[1.5608309  1.61339667 1.19243308 1.22280779]]\n"
     ]
    },
    {
     "name": "stderr",
     "output_type": "stream",
     "text": [
      "C:\\Users\\adwai\\AppData\\Local\\Temp/ipykernel_14152/1138563112.py:17: DeprecationWarning: Calling np.sum(generator) is deprecated, and in the future will give a different result. Use np.sum(np.fromiter(generator)) or the python sum builtin instead.\n",
      "  values[s] = np.max(np.sum(mdp[s, a] * (mdp[:, a] + gamma * values) for a in range(num_actions)))\n"
     ]
    }
   ],
   "source": [
    "import numpy as np\n",
    "\n",
    "def print_gridworld(values):\n",
    "    for row in values:\n",
    "        print(\" \".join(f\"{val:.2f}\" for val in row))\n",
    "\n",
    "def value_iteration(mdp, gamma=0.9, epsilon=1e-6):\n",
    "    num_states = mdp.shape[0]\n",
    "    num_actions = mdp.shape[1]\n",
    "\n",
    "    values = np.zeros(num_states)\n",
    "    \n",
    "    while True:\n",
    "        delta = 0\n",
    "        for s in range(num_states):\n",
    "            v = values[s]\n",
    "            values[s] = np.max(np.sum(mdp[s, a] * (mdp[:, a] + gamma * values) for a in range(num_actions)))\n",
    "            delta = max(delta, np.abs(v - values[s]))\n",
    "\n",
    "        if delta < epsilon:\n",
    "            break\n",
    "\n",
    "    return values\n",
    "\n",
    "if __name__ == \"__main__\":\n",
    "    np.random.seed(42)\n",
    "    num_states = 4\n",
    "    num_actions = 2\n",
    "\n",
    "    mdp = np.random.rand(num_states, num_actions, num_states)\n",
    "    mdp /= mdp.sum(axis=2, keepdims=True)\n",
    "\n",
    "    print(\"MDP Transition Probabilities:\")\n",
    "    for a in range(num_actions):\n",
    "        print(f\"Action {a + 1}:\")\n",
    "        print_gridworld(mdp[:, a, :])\n",
    "\n",
    "    optimal_values = value_iteration(mdp)\n",
    "\n",
    "    print(\"Optimal Value Function:\")\n",
    "    print(optimal_values.reshape((1, -1)))  # Reshape the array to be a row vector\n"
   ]
  },
  {
   "cell_type": "code",
   "execution_count": null,
   "id": "68f9b581",
   "metadata": {},
   "outputs": [],
   "source": []
  }
 ],
 "metadata": {
  "kernelspec": {
   "display_name": "Python 3 (ipykernel)",
   "language": "python",
   "name": "python3"
  },
  "language_info": {
   "codemirror_mode": {
    "name": "ipython",
    "version": 3
   },
   "file_extension": ".py",
   "mimetype": "text/x-python",
   "name": "python",
   "nbconvert_exporter": "python",
   "pygments_lexer": "ipython3",
   "version": "3.8.10"
  }
 },
 "nbformat": 4,
 "nbformat_minor": 5
}
