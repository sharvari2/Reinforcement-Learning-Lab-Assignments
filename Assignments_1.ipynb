{
 "cells": [
  {
   "cell_type": "code",
   "execution_count": 2,
   "id": "398c7894",
   "metadata": {
    "scrolled": false
   },
   "outputs": [],
   "source": [
    "# Write a program in python to demonstrate evaluative feedback by running episodes in the CartPole\n",
    "# environment and printing the total reward accumulated in each episode.\n",
    "\n",
    "# Name: Sharvari Pramod Jape\n",
    "# Class: B.E AIML\n",
    "# Roll No: 43526"
   ]
  },
  {
   "cell_type": "code",
   "execution_count": 1,
   "id": "22914ba1",
   "metadata": {},
   "outputs": [
    {
     "name": "stdout",
     "output_type": "stream",
     "text": [
      "Defaulting to user installation because normal site-packages is not writeable\n",
      "Requirement already satisfied: gym in c:\\users\\adwai\\appdata\\roaming\\python\\python38\\site-packages (0.26.2)\n",
      "Requirement already satisfied: numpy>=1.18.0 in c:\\users\\adwai\\appdata\\roaming\\python\\python38\\site-packages (from gym) (1.23.5)\n",
      "Requirement already satisfied: cloudpickle>=1.2.0 in c:\\users\\adwai\\appdata\\roaming\\python\\python38\\site-packages (from gym) (2.2.0)\n",
      "Requirement already satisfied: gym-notices>=0.0.4 in c:\\users\\adwai\\appdata\\roaming\\python\\python38\\site-packages (from gym) (0.0.8)\n",
      "Requirement already satisfied: importlib-metadata>=4.8.0 in c:\\users\\adwai\\appdata\\roaming\\python\\python38\\site-packages (from gym) (4.12.0)\n",
      "Requirement already satisfied: zipp>=0.5 in c:\\users\\adwai\\appdata\\roaming\\python\\python38\\site-packages (from importlib-metadata>=4.8.0->gym) (3.6.0)\n"
     ]
    },
    {
     "name": "stderr",
     "output_type": "stream",
     "text": [
      "\n",
      "[notice] A new release of pip is available: 23.2.1 -> 23.3.2\n",
      "[notice] To update, run: python.exe -m pip install --upgrade pip\n"
     ]
    }
   ],
   "source": [
    "!pip install gym"
   ]
  },
  {
   "cell_type": "code",
   "execution_count": 15,
   "id": "f4789d84",
   "metadata": {},
   "outputs": [
    {
     "name": "stdout",
     "output_type": "stream",
     "text": [
      "Episode 1: Total reward = 21.0\n",
      "Episode 2: Total reward = 17.0\n",
      "Episode 3: Total reward = 13.0\n",
      "Episode 4: Total reward = 25.0\n",
      "Episode 5: Total reward = 25.0\n",
      "Episode 6: Total reward = 12.0\n",
      "Episode 7: Total reward = 29.0\n",
      "Episode 8: Total reward = 102.0\n",
      "Episode 9: Total reward = 25.0\n",
      "Episode 10: Total reward = 10.0\n"
     ]
    }
   ],
   "source": [
    "import gym\n",
    "\n",
    "# Create \n",
    "env = gym.make(\"CartPole-v1\")\n",
    "\n",
    "# Set episodes\n",
    "num_episodes = 10\n",
    "\n",
    "# Run \n",
    "for episode in range(num_episodes):\n",
    "    # Reset env\n",
    "    observation = env.reset()\n",
    "    total_reward = 0\n",
    "\n",
    "    # Run ep\n",
    "    done = False\n",
    "    while not done:\n",
    "        # 0 or 1\n",
    "        action = env.action_space.sample()\n",
    "\n",
    "        # action\n",
    "        result = env.step(action)\n",
    "\n",
    "        observation, reward, done, _ = result[:4]  # Unpack only 4 values\n",
    "\n",
    "    \n",
    "        total_reward += reward\n",
    "\n",
    "    \n",
    "    print(f\"Episode {episode + 1}: Total reward = {total_reward}\")\n",
    "\n",
    "\n",
    "env.close()\n"
   ]
  },
  {
   "cell_type": "code",
   "execution_count": null,
   "id": "4f0f9384",
   "metadata": {},
   "outputs": [],
   "source": []
  }
 ],
 "metadata": {
  "kernelspec": {
   "display_name": "Python 3 (ipykernel)",
   "language": "python",
   "name": "python3"
  },
  "language_info": {
   "codemirror_mode": {
    "name": "ipython",
    "version": 3
   },
   "file_extension": ".py",
   "mimetype": "text/x-python",
   "name": "python",
   "nbconvert_exporter": "python",
   "pygments_lexer": "ipython3",
   "version": "3.8.10"
  }
 },
 "nbformat": 4,
 "nbformat_minor": 5
}
